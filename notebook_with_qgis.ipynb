{
 "cells": [
  {
   "cell_type": "code",
   "execution_count": 1,
   "metadata": {},
   "outputs": [],
   "source": [
    "import os\n",
    "import sys\n",
    "import json\n",
    "import pandas as pd"
   ]
  },
  {
   "cell_type": "code",
   "execution_count": 4,
   "metadata": {},
   "outputs": [],
   "source": [
    "# set up system paths\n",
    "qspath = './qgis_sys_paths.csv' \n",
    "# provide the path where you saved this file.\n",
    "paths = pd.read_csv(qspath).paths.tolist()\n",
    "sys.path += paths\n",
    "# set up environment variables\n",
    "qepath = './qgis_env.json'\n",
    "js = json.loads(open(qepath, 'r').read())\n",
    "for k, v in js.items():\n",
    "    os.environ[k] = v\n",
    "# In special cases, we might also need to map the PROJ_LIB to handle the projections\n",
    "# for mac OS\n",
    "os.environ['PROJ_LIB'] = '/Applications/Qgis.app/Contents/Resources/proj'"
   ]
  },
  {
   "cell_type": "code",
   "execution_count": 5,
   "metadata": {},
   "outputs": [
    {
     "ename": "ModuleNotFoundError",
     "evalue": "No module named 'PyQt5'",
     "output_type": "error",
     "traceback": [
      "\u001b[1;31m---------------------------------------------------------------------------\u001b[0m",
      "\u001b[1;31mModuleNotFoundError\u001b[0m                       Traceback (most recent call last)",
      "Cell \u001b[1;32mIn[5], line 1\u001b[0m\n\u001b[1;32m----> 1\u001b[0m \u001b[39mimport\u001b[39;00m \u001b[39mPyQt5\u001b[39;00m\u001b[39m.\u001b[39;00m\u001b[39mQtCore\u001b[39;00m\n\u001b[0;32m      2\u001b[0m \u001b[39mimport\u001b[39;00m \u001b[39mgdal\u001b[39;00m\n\u001b[0;32m      3\u001b[0m \u001b[39mimport\u001b[39;00m \u001b[39mqgis\u001b[39;00m\u001b[39m.\u001b[39;00m\u001b[39mPyQt\u001b[39;00m\u001b[39m.\u001b[39;00m\u001b[39mQtCore\u001b[39;00m\n",
      "\u001b[1;31mModuleNotFoundError\u001b[0m: No module named 'PyQt5'"
     ]
    }
   ],
   "source": [
    "import PyQt5.QtCore\n",
    "import gdal\n",
    "import qgis.PyQt.QtCore"
   ]
  },
  {
   "cell_type": "code",
   "execution_count": null,
   "metadata": {},
   "outputs": [],
   "source": []
  }
 ],
 "metadata": {
  "kernelspec": {
   "display_name": ".venv",
   "language": "python",
   "name": "python3"
  },
  "language_info": {
   "codemirror_mode": {
    "name": "ipython",
    "version": 3
   },
   "file_extension": ".py",
   "mimetype": "text/x-python",
   "name": "python",
   "nbconvert_exporter": "python",
   "pygments_lexer": "ipython3",
   "version": "3.8.5"
  },
  "orig_nbformat": 4
 },
 "nbformat": 4,
 "nbformat_minor": 2
}
