{
 "cells": [
  {
   "attachments": {},
   "cell_type": "markdown",
   "metadata": {},
   "source": [
    "# GeoSpatial Analysis\n",
    "\n",
    "This notebook intends to be an initial approach to GIS analysis in Python."
   ]
  },
  {
   "cell_type": "code",
   "execution_count": 6,
   "metadata": {},
   "outputs": [],
   "source": [
    "import pandas as pd\n",
    "import geemap\n",
    "import ee"
   ]
  },
  {
   "cell_type": "code",
   "execution_count": 7,
   "metadata": {},
   "outputs": [],
   "source": [
    "# Initialize the library.\n",
    "ee.Initialize()"
   ]
  },
  {
   "cell_type": "code",
   "execution_count": 8,
   "metadata": {},
   "outputs": [],
   "source": [
    "# Import the MODIS land cover collection.\n",
    "lc = ee.ImageCollection('MODIS/006/MCD12Q1')\n",
    "\n",
    "# Import the MODIS land surface temperature collection.\n",
    "lst = ee.ImageCollection('MODIS/006/MOD11A1')\n",
    "\n",
    "# Import the USGS ground elevation image.\n",
    "elv = ee.Image('USGS/SRTMGL1_003')"
   ]
  },
  {
   "cell_type": "code",
   "execution_count": 10,
   "metadata": {},
   "outputs": [],
   "source": [
    "# Initial date of interest (inclusive).\n",
    "i_date = '2010-01-01'\n",
    "\n",
    "# Final date of interest (exclusive).\n",
    "f_date = '2022-01-01'\n",
    "\n",
    "# Selection of appropriate bands and dates for LST.\n",
    "lst = lst.select('LST_Day_1km', 'QC_Day').filterDate(i_date, f_date)"
   ]
  },
  {
   "cell_type": "code",
   "execution_count": 11,
   "metadata": {},
   "outputs": [],
   "source": [
    "# Define the urban location of interest as a point near Buenos Aires, Argentina.\n",
    "u_lon = -58.381592\n",
    "u_lat = -34.603722\n",
    "u_poi = ee.Geometry.Point(u_lon, u_lat)"
   ]
  },
  {
   "cell_type": "code",
   "execution_count": 12,
   "metadata": {},
   "outputs": [
    {
     "name": "stdout",
     "output_type": "stream",
     "text": [
      "Ground elevation at urban point: 40 m\n",
      "Average daytime LST at urban point: 21.95 °C\n",
      "Land cover value at urban point is: 13\n"
     ]
    }
   ],
   "source": [
    "scale = 1000  # scale in meters\n",
    "\n",
    "# Print the elevation near Buenos Aires, Argentina.\n",
    "elv_urban_point = elv.sample(u_poi, scale).first().get('elevation').getInfo()\n",
    "print('Ground elevation at urban point:', elv_urban_point, 'm')\n",
    "\n",
    "# Calculate and print the mean value of the LST collection at the point.\n",
    "lst_urban_point = lst.mean().sample(u_poi, scale).first().get('LST_Day_1km').getInfo()\n",
    "print('Average daytime LST at urban point:', round(lst_urban_point*0.02 -273.15, 2), '°C')\n",
    "\n",
    "# Print the land cover type at the point.\n",
    "lc_urban_point = lc.first().sample(u_poi, scale).first().get('LC_Type1').getInfo()\n",
    "print('Land cover value at urban point is:', lc_urban_point)"
   ]
  },
  {
   "cell_type": "code",
   "execution_count": 13,
   "metadata": {},
   "outputs": [
    {
     "data": {
      "text/plain": [
       "[['id', 'longitude', 'latitude', 'time', 'LST_Day_1km', 'QC_Day'],\n",
       " ['2017_01_01',\n",
       "  -58.3860018913483,\n",
       "  -34.607596320704566,\n",
       "  1483228800000,\n",
       "  None,\n",
       "  2],\n",
       " ['2017_01_02',\n",
       "  -58.3860018913483,\n",
       "  -34.607596320704566,\n",
       "  1483315200000,\n",
       "  15161,\n",
       "  0],\n",
       " ['2017_01_03',\n",
       "  -58.3860018913483,\n",
       "  -34.607596320704566,\n",
       "  1483401600000,\n",
       "  None,\n",
       "  2],\n",
       " ['2017_01_04',\n",
       "  -58.3860018913483,\n",
       "  -34.607596320704566,\n",
       "  1483488000000,\n",
       "  None,\n",
       "  2]]"
      ]
     },
     "execution_count": 13,
     "metadata": {},
     "output_type": "execute_result"
    }
   ],
   "source": [
    "# Get the data for the pixel intersecting the point in urban area.\n",
    "lst_u_poi = lst.getRegion(u_poi, scale).getInfo()\n",
    "\n",
    "# Preview the result.\n",
    "lst_u_poi[:5]"
   ]
  },
  {
   "cell_type": "code",
   "execution_count": 14,
   "metadata": {},
   "outputs": [],
   "source": [
    "def ee_array_to_df(arr, list_of_bands):\n",
    "    \"\"\"Transforms client-side ee.Image.getRegion array to pandas.DataFrame.\"\"\"\n",
    "    df = pd.DataFrame(arr)\n",
    "\n",
    "    # Rearrange the header.\n",
    "    headers = df.iloc[0]\n",
    "    df = pd.DataFrame(df.values[1:], columns=headers)\n",
    "\n",
    "    # Remove rows without data inside.\n",
    "    df = df[['longitude', 'latitude', 'time', *list_of_bands]].dropna()\n",
    "\n",
    "    # Convert the data to numeric values.\n",
    "    for band in list_of_bands:\n",
    "        df[band] = pd.to_numeric(df[band], errors='coerce')\n",
    "\n",
    "    # Convert the time field into a datetime.\n",
    "    df['datetime'] = pd.to_datetime(df['time'], unit='ms')\n",
    "\n",
    "    # Keep the columns of interest.\n",
    "    df = df[['time','datetime',  *list_of_bands]]\n",
    "\n",
    "    return df"
   ]
  },
  {
   "cell_type": "code",
   "execution_count": 15,
   "metadata": {},
   "outputs": [],
   "source": [
    "lst_df_urban = ee_array_to_df(lst_u_poi,['LST_Day_1km'])\n",
    "\n",
    "def t_modis_to_celsius(t_modis):\n",
    "    \"\"\"Converts MODIS LST units to degrees Celsius.\"\"\"\n",
    "    t_celsius =  0.02*t_modis - 273.15\n",
    "    return t_celsius\n",
    "\n",
    "# Apply the function to get temperature in celsius.\n",
    "lst_df_urban['LST_Day_1km'] = lst_df_urban['LST_Day_1km'].apply(t_modis_to_celsius)"
   ]
  },
  {
   "cell_type": "code",
   "execution_count": 17,
   "metadata": {},
   "outputs": [
    {
     "data": {
      "text/html": [
       "<div>\n",
       "<style scoped>\n",
       "    .dataframe tbody tr th:only-of-type {\n",
       "        vertical-align: middle;\n",
       "    }\n",
       "\n",
       "    .dataframe tbody tr th {\n",
       "        vertical-align: top;\n",
       "    }\n",
       "\n",
       "    .dataframe thead th {\n",
       "        text-align: right;\n",
       "    }\n",
       "</style>\n",
       "<table border=\"1\" class=\"dataframe\">\n",
       "  <thead>\n",
       "    <tr style=\"text-align: right;\">\n",
       "      <th></th>\n",
       "      <th>time</th>\n",
       "      <th>datetime</th>\n",
       "      <th>LST_Day_1km</th>\n",
       "    </tr>\n",
       "  </thead>\n",
       "  <tbody>\n",
       "    <tr>\n",
       "      <th>1082</th>\n",
       "      <td>1576713600000</td>\n",
       "      <td>2019-12-19</td>\n",
       "      <td>34.41</td>\n",
       "    </tr>\n",
       "    <tr>\n",
       "      <th>1085</th>\n",
       "      <td>1576972800000</td>\n",
       "      <td>2019-12-22</td>\n",
       "      <td>30.23</td>\n",
       "    </tr>\n",
       "    <tr>\n",
       "      <th>1086</th>\n",
       "      <td>1577059200000</td>\n",
       "      <td>2019-12-23</td>\n",
       "      <td>31.81</td>\n",
       "    </tr>\n",
       "    <tr>\n",
       "      <th>1087</th>\n",
       "      <td>1577145600000</td>\n",
       "      <td>2019-12-24</td>\n",
       "      <td>33.59</td>\n",
       "    </tr>\n",
       "    <tr>\n",
       "      <th>1090</th>\n",
       "      <td>1577404800000</td>\n",
       "      <td>2019-12-27</td>\n",
       "      <td>31.39</td>\n",
       "    </tr>\n",
       "  </tbody>\n",
       "</table>\n",
       "</div>"
      ],
      "text/plain": [
       "0              time   datetime  LST_Day_1km\n",
       "1082  1576713600000 2019-12-19        34.41\n",
       "1085  1576972800000 2019-12-22        30.23\n",
       "1086  1577059200000 2019-12-23        31.81\n",
       "1087  1577145600000 2019-12-24        33.59\n",
       "1090  1577404800000 2019-12-27        31.39"
      ]
     },
     "execution_count": 17,
     "metadata": {},
     "output_type": "execute_result"
    }
   ],
   "source": [
    "lst_df_urban.tail()"
   ]
  },
  {
   "cell_type": "code",
   "execution_count": null,
   "metadata": {},
   "outputs": [],
   "source": []
  }
 ],
 "metadata": {
  "kernelspec": {
   "display_name": ".venv",
   "language": "python",
   "name": "python3"
  },
  "language_info": {
   "codemirror_mode": {
    "name": "ipython",
    "version": 3
   },
   "file_extension": ".py",
   "mimetype": "text/x-python",
   "name": "python",
   "nbconvert_exporter": "python",
   "pygments_lexer": "ipython3",
   "version": "3.8.5"
  },
  "orig_nbformat": 4
 },
 "nbformat": 4,
 "nbformat_minor": 2
}
