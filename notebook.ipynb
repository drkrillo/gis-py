{
 "cells": [
  {
   "cell_type": "code",
   "execution_count": 1,
   "metadata": {},
   "outputs": [],
   "source": [
    "import ee\n",
    "import geemap"
   ]
  },
  {
   "cell_type": "code",
   "execution_count": 4,
   "metadata": {},
   "outputs": [],
   "source": [
    "ee.Initialize()"
   ]
  },
  {
   "cell_type": "code",
   "execution_count": 6,
   "metadata": {},
   "outputs": [
    {
     "data": {
      "application/vnd.jupyter.widget-view+json": {
       "model_id": "bfe1bd888c034e3d964621de25805a53",
       "version_major": 2,
       "version_minor": 0
      },
      "text/plain": [
       "Map(center=[-11.64273, -61.61625], controls=(WidgetControl(options=['position', 'transparent_bg'], widget=HBox…"
      ]
     },
     "metadata": {},
     "output_type": "display_data"
    }
   ],
   "source": [
    "# Create a map centered at (lat, lon).\n",
    "Map = geemap.Map(center=[40, -100], zoom=4)\n",
    "\n",
    "# There are many fine places to look here is one.  Comment\n",
    "# this out if you want to twiddle knobs while panning around.\n",
    "Map.setCenter(-61.61625, -11.64273, 14)\n",
    "\n",
    "# Grab a sample L7 image and pull out the RGB and pan bands\n",
    "# in the range (0, 1).  (The range of the pan band values was\n",
    "# chosen to roughly match the other bands.)\n",
    "image1 = ee.Image('LANDSAT/LE7/LE72300681999227EDC00')\n",
    "\n",
    "rgb = image1.select('B3', 'B2', 'B1').unitScale(0, 255)\n",
    "gray = image1.select('B8').unitScale(0, 155)\n",
    "\n",
    "# Convert to HSV, swap in the pan band, and convert back to RGB.\n",
    "huesat = rgb.rgbToHsv().select('hue', 'saturation')\n",
    "upres = ee.Image.cat(huesat, gray).hsvToRgb()\n",
    "\n",
    "# Display before and after layers using the same vis parameters.\n",
    "visparams = {'min': [.15, .15, .25], 'max': [1, .9, .9], 'gamma': 1.6}\n",
    "Map.addLayer(rgb, visparams, 'Orignal')\n",
    "Map.addLayer(upres, visparams, 'Pansharpened')\n",
    "\n",
    "# Display the map.\n",
    "Map"
   ]
  },
  {
   "cell_type": "code",
   "execution_count": null,
   "metadata": {},
   "outputs": [],
   "source": []
  }
 ],
 "metadata": {
  "kernelspec": {
   "display_name": ".venv",
   "language": "python",
   "name": "python3"
  },
  "language_info": {
   "codemirror_mode": {
    "name": "ipython",
    "version": 3
   },
   "file_extension": ".py",
   "mimetype": "text/x-python",
   "name": "python",
   "nbconvert_exporter": "python",
   "pygments_lexer": "ipython3",
   "version": "3.8.5"
  },
  "orig_nbformat": 4
 },
 "nbformat": 4,
 "nbformat_minor": 2
}
